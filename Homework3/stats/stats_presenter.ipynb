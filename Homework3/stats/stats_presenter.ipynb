{
 "cells": [
  {
   "cell_type": "code",
   "execution_count": null,
   "metadata": {},
   "outputs": [],
   "source": [
    "import pandas as pd\n",
    "from statistics import mean\n",
    "import numpy as np"
   ]
  },
  {
   "cell_type": "code",
   "execution_count": null,
   "metadata": {},
   "outputs": [],
   "source": [
    "import json\n",
    "from typing import List"
   ]
  },
  {
   "cell_type": "code",
   "execution_count": null,
   "metadata": {},
   "outputs": [],
   "source": [
    "path = \"stats.json\""
   ]
  },
  {
   "cell_type": "code",
   "execution_count": null,
   "metadata": {},
   "outputs": [],
   "source": [
    "datas = pd.read_json(path, lines=True)"
   ]
  },
  {
   "cell_type": "code",
   "execution_count": null,
   "metadata": {},
   "outputs": [],
   "source": [
    "nullValues = [\"nan\", \"null\", \"\"]"
   ]
  },
  {
   "cell_type": "code",
   "execution_count": null,
   "metadata": {},
   "outputs": [],
   "source": [
    "# metodo che calcola il numero di elementi diversi per ciascuna colonna e il numero di valori\n",
    "# nulli totali del dataset\n",
    "def calculateDifferentValueForColumnAndNumberOfNan(dataset, column2differentvalues):\n",
    "    numberOfNan = 0\n",
    "    # per ogni tabella del dataset\n",
    "    for i in range(len(dataset)):\n",
    "        columnsnames = list((dataset[\"columns2dataColumn\"][i]))\n",
    "        # per ogni colonna della tabella\n",
    "        for e in range(len(columnsnames)):\n",
    "            columnelems = list((dataset[\"columns2dataColumn\"][i])[columnsnames[e]])\n",
    "            columnmap = dict()\n",
    "            # scorri la lista di elementi della colonna\n",
    "            for l in range(len(columnelems)):\n",
    "                # se il valore è nullo incrementa la variabille di nan\n",
    "                if columnelems[l].lower().strip() in nullValues:\n",
    "                    numberOfNan = numberOfNan + 1.0\n",
    "                # aggiorna la mappa di termini della colonna\n",
    "                columnmap.update({columnelems[l]: 1})\n",
    "            # aggiorna la mappa colonna numero di elementi diversi\n",
    "            table_column = dataset[\"id\"][i] + columnsnames[e]\n",
    "            column2differentvalues.update({table_column: len(columnmap.keys())})\n",
    "    return numberOfNan"
   ]
  },
  {
   "cell_type": "code",
   "execution_count": null,
   "metadata": {},
   "outputs": [],
   "source": [
    "totRows = len(datas)\n",
    "avgRows = (datas[\"numRows\"]).mean()\n",
    "avgColumns = (datas[\"numColumns\"]).mean()\n",
    "column2differentvalues = dict()\n",
    "nnan = calculateDifferentValueForColumnAndNumberOfNan(datas, column2differentvalues)\n",
    "print(\"Null values =\", nnan)"
   ]
  },
  {
   "cell_type": "code",
   "execution_count": null,
   "metadata": {},
   "outputs": [],
   "source": [
    "avgNan = (nnan / len(datas))\n",
    "#parsingtime\n",
    "parsingtime = 156533921459  #ns\n",
    "# indexingtime senza multithreading\n",
    "indexingtimewithout = 10539\n",
    "# indexingtime con multithreading\n",
    "indexingtime = 29560   #ns\n",
    "# CON CODEC\n",
    "# searchingtime senza multithreading\n",
    "searchingtimewithoutcorecodec = 181 #s\n",
    "# searchingtime con 2 core\n",
    "searchingtime2core = 101 #s\n",
    "# searchingtime con 4 core\n",
    "searchingtime2core = 65 #s\n",
    "# searchingtime con 8 core\n",
    "searchingtime2core = 52 #s\n",
    "# searchingtime con multithreading con 9 core\n",
    "searchingtime = 41 #s\n",
    "# searchingtime con multithreading con 10 core\n",
    "searchingtime10corecodec = 36 #s\n",
    "#SENZA CODEC\n",
    "searchingtimecore = 260 #ms\n",
    "searchingtime10core = 405 #ms"
   ]
  },
  {
   "cell_type": "code",
   "execution_count": null,
   "metadata": {},
   "outputs": [],
   "source": [
    "print(\"Numero totale di tabelle: \", totRows)\n",
    "print(\"Numero medio di righe\", avgRows)\n",
    "print(\"Numero medio di colonne\", avgColumns)\n",
    "print(\"Numero medio di valori nulli\", avgNan)\n",
    "print(\"Tempo di parsing del file json\", parsingtime/1000000)\n",
    "print(\"indexingtime senza multithreading\", indexingtimewithout)\n",
    "print(\"indexingtime con multithreading\", indexingtime)\n",
    "print(\"searchintime senza multithreading\", searchingtimewithoutcorecodec)\n",
    "print(\"searchintime con multithreading\", searchingtime10core)\n",
    "#print(column2differentvalues)"
   ]
  },
  {
   "cell_type": "code",
   "execution_count": null,
   "metadata": {},
   "outputs": [],
   "source": [
    "column2diff = pd.Series(column2differentvalues.values())"
   ]
  },
  {
   "cell_type": "code",
   "execution_count": null,
   "metadata": {},
   "outputs": [],
   "source": [
    "import matplotlib as plt\n",
    "from matplotlib.pyplot import grid\n",
    "\n",
    "print(column2diff[:])\n"
   ]
  },
  {
   "cell_type": "markdown",
   "metadata": {},
   "source": [
    "Plot della distribuzione del numero di righe"
   ]
  },
  {
   "cell_type": "code",
   "execution_count": null,
   "metadata": {},
   "outputs": [],
   "source": [
    "numrows_distr = datas[\"numRows\"].plot.hist(bins=6250, grid=True, color='#2A628F', rwidth=0.9)\n",
    "numrows_distr.set_xlim(0, 50)\n",
    "numrows_distr.set_ylabel(\"Number of tables\")\n",
    "numrows_distr.set_xlabel(\"Number of rows\")"
   ]
  },
  {
   "cell_type": "markdown",
   "metadata": {},
   "source": [
    "Plot del numero di valori diversi per colonna"
   ]
  },
  {
   "cell_type": "code",
   "execution_count": null,
   "metadata": {},
   "outputs": [],
   "source": [
    "numcolumns_distr = datas[\"numColumns\"].plot.hist(bins=30000, grid=True, color='#2A628F', rwidth=0.9)\n",
    "numcolumns_distr.set_xlim(0, 25)\n",
    "numcolumns_distr.set_ylabel(\"Number of tables\")\n",
    "numcolumns_distr.set_xlabel(\"Number of columns\")"
   ]
  },
  {
   "cell_type": "code",
   "execution_count": null,
   "metadata": {},
   "outputs": [],
   "source": [
    "coldiff = column2diff.plot.hist(bins=6000, grid=True, color='#2A628F', rwidth=0.9)\n",
    "coldiff.set_xlim(0, 50)\n",
    "coldiff.set_ylabel(\"Number of columns\")\n",
    "coldiff.set_xlabel(\"Number of different values\")"
   ]
  },
  {
   "cell_type": "code",
   "execution_count": null,
   "metadata": {},
   "outputs": [],
   "source": [
    "numrows2count = dict()\n",
    "for row in datas[\"numRows\"]:\n",
    "    if numrows2count.get(row):\n",
    "        numrows2count[row] = numrows2count.get(row) + 1\n",
    "    else:\n",
    "        numrows2count[row] = 1\n",
    "print(\"\\n\")\n",
    "numrows2countsorted = sorted(numrows2count.items(), key=lambda x:x[1], reverse=True)\n",
    "slots = [0 for _ in range(7)] \n",
    "for rows, num in numrows2countsorted:\n",
    "    if rows < 6:\n",
    "        i=0\n",
    "    if rows >= 6 and rows < 10:\n",
    "        i=1\n",
    "    if rows >= 10 and rows < 15:\n",
    "        i = 2\n",
    "    if rows >= 15 and rows < 20:\n",
    "        i = 3\n",
    "    if rows >= 20 and rows < 25:\n",
    "        i = 4\n",
    "    if rows >= 25 and rows < 30:\n",
    "        i = 5\n",
    "    if rows >= 30:\n",
    "        i = 6\n",
    "        \n",
    "    slots[i] += num \n",
    "print(slots)\n",
    "print(numrows2countsorted)"
   ]
  },
  {
   "cell_type": "code",
   "execution_count": null,
   "metadata": {},
   "outputs": [],
   "source": [
    "numcolumns2count = dict()\n",
    "for column in datas[\"numColumns\"]:\n",
    "    if numcolumns2count.get(column):\n",
    "        numcolumns2count[column] = numcolumns2count.get(column) + 1\n",
    "    else:\n",
    "        numcolumns2count[column] = 1\n",
    "\n",
    "\n",
    "numcolumns2countsorted = sorted(numcolumns2count.items(), key=lambda x:x[1])\n",
    "slots = [0 for _ in range(6)] \n",
    "for rows, num in numcolumns2countsorted:\n",
    "    if rows < 4:\n",
    "        i=0\n",
    "    if rows >= 4 and rows < 8:\n",
    "        i=1\n",
    "    if rows >= 8 and rows < 12:\n",
    "        i = 2\n",
    "    if rows >= 12:\n",
    "        i=3   \n",
    "    slots[i] += num \n",
    "print(slots)\n",
    "print(numcolumns2countsorted)\n"
   ]
  },
  {
   "cell_type": "code",
   "execution_count": null,
   "metadata": {},
   "outputs": [],
   "source": [
    "slots = [0 for _ in range(6)] \n",
    "#print(column2differentvalues)\n",
    "for lst, rows in column2differentvalues:\n",
    "    if rows < 6:\n",
    "        i=0\n",
    "    if rows >= 6 and rows < 10:\n",
    "        i=1\n",
    "    if rows >= 10 and rows < 15:\n",
    "        i = 2\n",
    "    if rows >= 15 and rows < 20:\n",
    "        i = 3\n",
    "    if rows >= 20:\n",
    "        i = 4\n",
    "        \n",
    "    slots[i] += 1 \n",
    "print(slots)"
   ]
  },
  {
   "cell_type": "code",
   "execution_count": null,
   "metadata": {},
   "outputs": [],
   "source": []
  }
 ],
 "metadata": {
  "kernelspec": {
   "display_name": "Python 3.8.13 ('idd')",
   "language": "python",
   "name": "python3"
  },
  "language_info": {
   "codemirror_mode": {
    "name": "ipython",
    "version": 3
   },
   "file_extension": ".py",
   "mimetype": "text/x-python",
   "name": "python",
   "nbconvert_exporter": "python",
   "pygments_lexer": "ipython3",
   "version": "3.8.13"
  },
  "orig_nbformat": 4,
  "vscode": {
   "interpreter": {
    "hash": "d8e1ed34cdd5d2cc016a2206c72429dc60b13db87ae0edb9bc8a4691312ac2cc"
   }
  }
 },
 "nbformat": 4,
 "nbformat_minor": 2
}
